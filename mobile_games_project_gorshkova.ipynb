{
 "cells": [
  {
   "cell_type": "markdown",
   "metadata": {},
   "source": [
    "### Проект: mobile gaming <h3>"
   ]
  },
  {
   "cell_type": "code",
   "execution_count": 1,
   "metadata": {},
   "outputs": [
    {
     "name": "stderr",
     "output_type": "stream",
     "text": [
      "/opt/tljh/user/lib/python3.7/site-packages/outdated/utils.py:18: OutdatedCacheFailedWarning: Failed to use cache while checking for outdated package.\n",
      "Set the environment variable OUTDATED_RAISE_EXCEPTION=1 for a full traceback.\n",
      "Set the environment variable OUTDATED_IGNORE=1 to disable these warnings.\n",
      "  **kwargs\n",
      "/opt/tljh/user/lib/python3.7/site-packages/outdated/utils.py:18: OutdatedPackageWarning: The package pingouin is out of date. Your version is 0.4.0, the latest is 0.5.3.\n",
      "Set the environment variable OUTDATED_IGNORE=1 to disable these warnings.\n",
      "  **kwargs\n",
      "/opt/tljh/user/lib/python3.7/site-packages/outdated/utils.py:18: OutdatedPackageWarning: The package outdated is out of date. Your version is 0.2.1, the latest is 0.2.2.\n",
      "Set the environment variable OUTDATED_IGNORE=1 to disable these warnings.\n",
      "  **kwargs\n"
     ]
    }
   ],
   "source": [
    "import pandas as pd\n",
    "import matplotlib.pyplot as plt\n",
    "\n",
    "import requests \n",
    "from urllib.parse import urlencode\n",
    "\n",
    "import scipy.stats as stats\n",
    "import pingouin as pg\n",
    "import seaborn as sns"
   ]
  },
  {
   "cell_type": "markdown",
   "metadata": {},
   "source": [
    "##### Задача: расчет retention rate<h5>\n",
    "Мы будем исследовать нескольких аспектов мобильного приложения.\n",
    "\n",
    "В первую очередь, составим функцию для подсчета __retention__ (по дням от даты регистрации игрока)."
   ]
  },
  {
   "cell_type": "code",
   "execution_count": 2,
   "metadata": {},
   "outputs": [],
   "source": [
    "reg_date = pd.read_csv('/mnt/HC_Volume_18315164/home-jupyter/jupyter-o-fefilova/shared/problem1-reg_data.csv', \n",
    "                       sep=';')"
   ]
  },
  {
   "cell_type": "code",
   "execution_count": 3,
   "metadata": {},
   "outputs": [
    {
     "data": {
      "text/html": [
       "<div>\n",
       "<style scoped>\n",
       "    .dataframe tbody tr th:only-of-type {\n",
       "        vertical-align: middle;\n",
       "    }\n",
       "\n",
       "    .dataframe tbody tr th {\n",
       "        vertical-align: top;\n",
       "    }\n",
       "\n",
       "    .dataframe thead th {\n",
       "        text-align: right;\n",
       "    }\n",
       "</style>\n",
       "<table border=\"1\" class=\"dataframe\">\n",
       "  <thead>\n",
       "    <tr style=\"text-align: right;\">\n",
       "      <th></th>\n",
       "      <th>reg_ts</th>\n",
       "      <th>uid</th>\n",
       "    </tr>\n",
       "  </thead>\n",
       "  <tbody>\n",
       "    <tr>\n",
       "      <th>0</th>\n",
       "      <td>911382223</td>\n",
       "      <td>1</td>\n",
       "    </tr>\n",
       "    <tr>\n",
       "      <th>1</th>\n",
       "      <td>932683089</td>\n",
       "      <td>2</td>\n",
       "    </tr>\n",
       "    <tr>\n",
       "      <th>2</th>\n",
       "      <td>947802447</td>\n",
       "      <td>3</td>\n",
       "    </tr>\n",
       "    <tr>\n",
       "      <th>3</th>\n",
       "      <td>959523541</td>\n",
       "      <td>4</td>\n",
       "    </tr>\n",
       "    <tr>\n",
       "      <th>4</th>\n",
       "      <td>969103313</td>\n",
       "      <td>5</td>\n",
       "    </tr>\n",
       "  </tbody>\n",
       "</table>\n",
       "</div>"
      ],
      "text/plain": [
       "      reg_ts  uid\n",
       "0  911382223    1\n",
       "1  932683089    2\n",
       "2  947802447    3\n",
       "3  959523541    4\n",
       "4  969103313    5"
      ]
     },
     "execution_count": 3,
     "metadata": {},
     "output_type": "execute_result"
    }
   ],
   "source": [
    "reg_date.head(5)"
   ]
  },
  {
   "cell_type": "markdown",
   "metadata": {},
   "source": [
    "В датасете __reg_date__ имеются следующие данные:\n",
    "- __reg_ts__ - время регистрации в формате timestamp\n",
    "- __uid__ - id пользователя"
   ]
  },
  {
   "cell_type": "code",
   "execution_count": 4,
   "metadata": {},
   "outputs": [
    {
     "data": {
      "text/plain": [
       "(1000000, 2)"
      ]
     },
     "execution_count": 4,
     "metadata": {},
     "output_type": "execute_result"
    }
   ],
   "source": [
    "reg_date.shape"
   ]
  },
  {
   "cell_type": "code",
   "execution_count": 5,
   "metadata": {},
   "outputs": [
    {
     "data": {
      "text/plain": [
       "1000000"
      ]
     },
     "execution_count": 5,
     "metadata": {},
     "output_type": "execute_result"
    }
   ],
   "source": [
    "reg_date.uid.nunique()  # проверим все ли user id в данных с регистрацией пользователей уникальны"
   ]
  },
  {
   "cell_type": "markdown",
   "metadata": {},
   "source": [
    "Все данные о регистрациях уникальны, а также их количество совпадает с общим количеством строк в этом датасете, а значит, пропущенных значений нет."
   ]
  },
  {
   "cell_type": "code",
   "execution_count": 6,
   "metadata": {},
   "outputs": [],
   "source": [
    "auth_date = pd.read_csv('/mnt/HC_Volume_18315164/home-jupyter/jupyter-o-fefilova/shared/problem1-auth_data.csv', \n",
    "                        sep=';')"
   ]
  },
  {
   "cell_type": "code",
   "execution_count": 7,
   "metadata": {},
   "outputs": [
    {
     "data": {
      "text/html": [
       "<div>\n",
       "<style scoped>\n",
       "    .dataframe tbody tr th:only-of-type {\n",
       "        vertical-align: middle;\n",
       "    }\n",
       "\n",
       "    .dataframe tbody tr th {\n",
       "        vertical-align: top;\n",
       "    }\n",
       "\n",
       "    .dataframe thead th {\n",
       "        text-align: right;\n",
       "    }\n",
       "</style>\n",
       "<table border=\"1\" class=\"dataframe\">\n",
       "  <thead>\n",
       "    <tr style=\"text-align: right;\">\n",
       "      <th></th>\n",
       "      <th>auth_ts</th>\n",
       "      <th>uid</th>\n",
       "    </tr>\n",
       "  </thead>\n",
       "  <tbody>\n",
       "    <tr>\n",
       "      <th>0</th>\n",
       "      <td>911382223</td>\n",
       "      <td>1</td>\n",
       "    </tr>\n",
       "    <tr>\n",
       "      <th>1</th>\n",
       "      <td>932683089</td>\n",
       "      <td>2</td>\n",
       "    </tr>\n",
       "    <tr>\n",
       "      <th>2</th>\n",
       "      <td>932921206</td>\n",
       "      <td>2</td>\n",
       "    </tr>\n",
       "    <tr>\n",
       "      <th>3</th>\n",
       "      <td>933393015</td>\n",
       "      <td>2</td>\n",
       "    </tr>\n",
       "    <tr>\n",
       "      <th>4</th>\n",
       "      <td>933875379</td>\n",
       "      <td>2</td>\n",
       "    </tr>\n",
       "  </tbody>\n",
       "</table>\n",
       "</div>"
      ],
      "text/plain": [
       "     auth_ts  uid\n",
       "0  911382223    1\n",
       "1  932683089    2\n",
       "2  932921206    2\n",
       "3  933393015    2\n",
       "4  933875379    2"
      ]
     },
     "execution_count": 7,
     "metadata": {},
     "output_type": "execute_result"
    }
   ],
   "source": [
    "auth_date.head(5)"
   ]
  },
  {
   "cell_type": "markdown",
   "metadata": {},
   "source": [
    "В датасете __auth_date__ имеются следующие данные:\n",
    "- __auth_ts__ - время входа пользователя в игру в формате timestamp\n",
    "- __uid__ - id пользователя"
   ]
  },
  {
   "cell_type": "code",
   "execution_count": 8,
   "metadata": {},
   "outputs": [
    {
     "data": {
      "text/plain": [
       "(9601013, 2)"
      ]
     },
     "execution_count": 8,
     "metadata": {},
     "output_type": "execute_result"
    }
   ],
   "source": [
    "auth_date.shape"
   ]
  },
  {
   "cell_type": "code",
   "execution_count": 9,
   "metadata": {},
   "outputs": [
    {
     "data": {
      "text/plain": [
       "auth_ts    0\n",
       "uid        0\n",
       "dtype: int64"
      ]
     },
     "execution_count": 9,
     "metadata": {},
     "output_type": "execute_result"
    }
   ],
   "source": [
    "auth_date.isna().sum()  # проверим нет ли пропущенных значений"
   ]
  },
  {
   "cell_type": "markdown",
   "metadata": {},
   "source": [
    "__Функция, которая будет считать retention игроков (по дням от даты регистрации игрока):__"
   ]
  },
  {
   "cell_type": "code",
   "execution_count": 10,
   "metadata": {},
   "outputs": [],
   "source": [
    "def n_days_retention(reg, auth, start, end):\n",
    "    \n",
    "    '''\n",
    "    n_days_retention(reg, auth, start, end), где reg и auth - это датасеты, \n",
    "    содержащие данные о регистрациях и авторизациях юзеров соответственно, \n",
    "    а start и end - даты (в формате \"YYYY-MM-DD\") начала и окончания периода, \n",
    "    по которому будет идти расчет n-day retention.\n",
    "    \n",
    "    Данная функция рассчитывает retention (отношение числа игроков,\n",
    "    которые вернулись в игру повторно в каждый день выбранного периода, \n",
    "    к числу игроков на начало расчетного периода). \n",
    "    '''\n",
    "    \n",
    "# Скопируем датафреймы, чтобы функция не меняла исходные данные    \n",
    "    reg2 = reg.copy()\n",
    "    auth2 = auth.copy()\n",
    "\n",
    "# Поменяем unix timestamp в human-readable формат, преобразуем в дни и переименуем колонки\n",
    "    reg2['reg_ts'] = pd.to_datetime(reg2.reg_ts, unit='s').dt.to_period('D')\n",
    "    reg2 = reg2.rename(columns={\"reg_ts\": \"registration\"})\n",
    "    \n",
    "    auth2['auth_ts'] = pd.to_datetime(auth2.auth_ts, unit='s').dt.to_period('D')\n",
    "    auth2 = auth2.rename(columns={\"auth_ts\": \"authorization\"})\n",
    "    \n",
    "# Отберем данные только за нужный период\n",
    "    df_reg = reg2.query('registration >= @start and registration <= @end')\n",
    "    df_auth = auth2.query('authorization >= @start and authorization <= @end')\n",
    "    \n",
    "# Объединим два датасета в один\n",
    "    df_auth_reg = df_auth.merge(df_reg, how='left', on='uid')\n",
    "    \n",
    "# В получившимся датасете есть авторизации юзеров, зарегистрировавшихся до начала нужного нам перода.\n",
    "# Уберем эти авторизации из исследуемых данных.\n",
    "    df_cleared = df_auth_reg.dropna(axis=0, how='any')\n",
    "\n",
    "# Посчитаем разницу в днях между регистрацией и аутентификацией и преобразуем результат в целое число\n",
    "    df_cleared['days'] = df_cleared.authorization - df_cleared.registration\n",
    "    df_cleared['days'] = df_cleared.days.apply(lambda x: x.n)\n",
    "    \n",
    "# Сгруппируем когорты\n",
    "    df_cohorts = df_cleared\\\n",
    "        .groupby(['registration', 'days'], as_index=False)\\\n",
    "        .nunique('uid')\\\n",
    "        .rename(columns={\"uid\": \"user_count\"})\n",
    "\n",
    "# Создадим сводную таблицу\n",
    "    pivot_df = df_cohorts.pivot(index='registration', columns='days', values='user_count')\n",
    "    \n",
    "# Рассчитаем retention\n",
    "    users_retention = pivot_df.divide(pivot_df[0], axis=0)\n",
    "\n",
    "# Добавим столбец с данными о размере каждой когорты\n",
    "    users_retention.insert(0, \"cohort_size\", pivot_df[0], False)\n",
    "    \n",
    "# Удалим неинформативный столбец за 0 день\n",
    "    del users_retention[users_retention.columns[1]]\n",
    "    \n",
    "# Оформим визуализацию получившейся таблицы\n",
    "    ur_style = (users_retention\n",
    "                .style\n",
    "                .set_caption('User retention')  # добавляем подпись\n",
    "                .background_gradient(cmap='viridis')  # раскрашиваем ячейки по столбцам\n",
    "                .highlight_null('white')  # делаем белый фон для значений NaN\n",
    "                .format(\"{:.2%}\", na_rep=\"\")  # числа форматируем как проценты, NaN заменяем на пустоту\n",
    "                .format(formatter={('cohort_size'): \"{:.0f}\"}))  # столбец с размерами когорт форматируем как числа\n",
    "\n",
    "    return ur_style"
   ]
  },
  {
   "cell_type": "markdown",
   "metadata": {},
   "source": [
    "Проверим функцию на сэмпле данных:"
   ]
  },
  {
   "cell_type": "code",
   "execution_count": 11,
   "metadata": {},
   "outputs": [],
   "source": [
    "auth_sample = auth_date.sample(500000, random_state=1)"
   ]
  },
  {
   "cell_type": "code",
   "execution_count": 12,
   "metadata": {},
   "outputs": [
    {
     "name": "stderr",
     "output_type": "stream",
     "text": [
      "/opt/tljh/user/lib/python3.7/site-packages/ipykernel_launcher.py:37: SettingWithCopyWarning: \n",
      "A value is trying to be set on a copy of a slice from a DataFrame.\n",
      "Try using .loc[row_indexer,col_indexer] = value instead\n",
      "\n",
      "See the caveats in the documentation: https://pandas.pydata.org/pandas-docs/stable/user_guide/indexing.html#returning-a-view-versus-a-copy\n",
      "/opt/tljh/user/lib/python3.7/site-packages/ipykernel_launcher.py:38: SettingWithCopyWarning: \n",
      "A value is trying to be set on a copy of a slice from a DataFrame.\n",
      "Try using .loc[row_indexer,col_indexer] = value instead\n",
      "\n",
      "See the caveats in the documentation: https://pandas.pydata.org/pandas-docs/stable/user_guide/indexing.html#returning-a-view-versus-a-copy\n"
     ]
    },
    {
     "data": {
      "text/html": [
       "<style  type=\"text/css\" >\n",
       "#T_23dae750_ad3c_11ed_bdbb_96000040dfb6row0_col0{\n",
       "            background-color:  #32648e;\n",
       "            color:  #f1f1f1;\n",
       "        }#T_23dae750_ad3c_11ed_bdbb_96000040dfb6row0_col1,#T_23dae750_ad3c_11ed_bdbb_96000040dfb6row1_col2,#T_23dae750_ad3c_11ed_bdbb_96000040dfb6row2_col2,#T_23dae750_ad3c_11ed_bdbb_96000040dfb6row3_col2,#T_23dae750_ad3c_11ed_bdbb_96000040dfb6row3_col5,#T_23dae750_ad3c_11ed_bdbb_96000040dfb6row4_col4,#T_23dae750_ad3c_11ed_bdbb_96000040dfb6row4_col5,#T_23dae750_ad3c_11ed_bdbb_96000040dfb6row5_col3,#T_23dae750_ad3c_11ed_bdbb_96000040dfb6row5_col4,#T_23dae750_ad3c_11ed_bdbb_96000040dfb6row5_col5,#T_23dae750_ad3c_11ed_bdbb_96000040dfb6row6_col2,#T_23dae750_ad3c_11ed_bdbb_96000040dfb6row6_col3,#T_23dae750_ad3c_11ed_bdbb_96000040dfb6row6_col4,#T_23dae750_ad3c_11ed_bdbb_96000040dfb6row6_col5,#T_23dae750_ad3c_11ed_bdbb_96000040dfb6row7_col1,#T_23dae750_ad3c_11ed_bdbb_96000040dfb6row7_col2,#T_23dae750_ad3c_11ed_bdbb_96000040dfb6row7_col3,#T_23dae750_ad3c_11ed_bdbb_96000040dfb6row7_col4,#T_23dae750_ad3c_11ed_bdbb_96000040dfb6row7_col5{\n",
       "            background-color:  #000000;\n",
       "            color:  #f1f1f1;\n",
       "            background-color:  white;\n",
       "        }#T_23dae750_ad3c_11ed_bdbb_96000040dfb6row0_col2,#T_23dae750_ad3c_11ed_bdbb_96000040dfb6row0_col5,#T_23dae750_ad3c_11ed_bdbb_96000040dfb6row0_col6,#T_23dae750_ad3c_11ed_bdbb_96000040dfb6row0_col7,#T_23dae750_ad3c_11ed_bdbb_96000040dfb6row2_col3,#T_23dae750_ad3c_11ed_bdbb_96000040dfb6row3_col1,#T_23dae750_ad3c_11ed_bdbb_96000040dfb6row3_col4,#T_23dae750_ad3c_11ed_bdbb_96000040dfb6row7_col0{\n",
       "            background-color:  #440154;\n",
       "            color:  #f1f1f1;\n",
       "        }#T_23dae750_ad3c_11ed_bdbb_96000040dfb6row0_col3{\n",
       "            background-color:  #2f6c8e;\n",
       "            color:  #f1f1f1;\n",
       "        }#T_23dae750_ad3c_11ed_bdbb_96000040dfb6row0_col4{\n",
       "            background-color:  #481f70;\n",
       "            color:  #f1f1f1;\n",
       "        }#T_23dae750_ad3c_11ed_bdbb_96000040dfb6row1_col0{\n",
       "            background-color:  #471063;\n",
       "            color:  #f1f1f1;\n",
       "        }#T_23dae750_ad3c_11ed_bdbb_96000040dfb6row1_col1{\n",
       "            background-color:  #482071;\n",
       "            color:  #f1f1f1;\n",
       "        }#T_23dae750_ad3c_11ed_bdbb_96000040dfb6row1_col3{\n",
       "            background-color:  #287d8e;\n",
       "            color:  #000000;\n",
       "        }#T_23dae750_ad3c_11ed_bdbb_96000040dfb6row1_col4,#T_23dae750_ad3c_11ed_bdbb_96000040dfb6row1_col5,#T_23dae750_ad3c_11ed_bdbb_96000040dfb6row4_col1,#T_23dae750_ad3c_11ed_bdbb_96000040dfb6row4_col2,#T_23dae750_ad3c_11ed_bdbb_96000040dfb6row4_col3,#T_23dae750_ad3c_11ed_bdbb_96000040dfb6row6_col0{\n",
       "            background-color:  #fde725;\n",
       "            color:  #000000;\n",
       "        }#T_23dae750_ad3c_11ed_bdbb_96000040dfb6row1_col6,#T_23dae750_ad3c_11ed_bdbb_96000040dfb6row1_col7,#T_23dae750_ad3c_11ed_bdbb_96000040dfb6row2_col6,#T_23dae750_ad3c_11ed_bdbb_96000040dfb6row2_col7,#T_23dae750_ad3c_11ed_bdbb_96000040dfb6row3_col6,#T_23dae750_ad3c_11ed_bdbb_96000040dfb6row3_col7,#T_23dae750_ad3c_11ed_bdbb_96000040dfb6row4_col6,#T_23dae750_ad3c_11ed_bdbb_96000040dfb6row4_col7,#T_23dae750_ad3c_11ed_bdbb_96000040dfb6row5_col6,#T_23dae750_ad3c_11ed_bdbb_96000040dfb6row5_col7,#T_23dae750_ad3c_11ed_bdbb_96000040dfb6row6_col6,#T_23dae750_ad3c_11ed_bdbb_96000040dfb6row6_col7,#T_23dae750_ad3c_11ed_bdbb_96000040dfb6row7_col6,#T_23dae750_ad3c_11ed_bdbb_96000040dfb6row7_col7{\n",
       "            background-color:  #440154;\n",
       "            color:  #f1f1f1;\n",
       "            background-color:  white;\n",
       "        }#T_23dae750_ad3c_11ed_bdbb_96000040dfb6row2_col0{\n",
       "            background-color:  #3c4f8a;\n",
       "            color:  #f1f1f1;\n",
       "        }#T_23dae750_ad3c_11ed_bdbb_96000040dfb6row2_col1{\n",
       "            background-color:  #481769;\n",
       "            color:  #f1f1f1;\n",
       "        }#T_23dae750_ad3c_11ed_bdbb_96000040dfb6row2_col4{\n",
       "            background-color:  #482475;\n",
       "            color:  #f1f1f1;\n",
       "        }#T_23dae750_ad3c_11ed_bdbb_96000040dfb6row2_col5{\n",
       "            background-color:  #277f8e;\n",
       "            color:  #000000;\n",
       "        }#T_23dae750_ad3c_11ed_bdbb_96000040dfb6row3_col0{\n",
       "            background-color:  #b0dd2f;\n",
       "            color:  #000000;\n",
       "        }#T_23dae750_ad3c_11ed_bdbb_96000040dfb6row3_col3{\n",
       "            background-color:  #3b528b;\n",
       "            color:  #f1f1f1;\n",
       "        }#T_23dae750_ad3c_11ed_bdbb_96000040dfb6row4_col0{\n",
       "            background-color:  #481d6f;\n",
       "            color:  #f1f1f1;\n",
       "        }#T_23dae750_ad3c_11ed_bdbb_96000040dfb6row5_col0{\n",
       "            background-color:  #375a8c;\n",
       "            color:  #f1f1f1;\n",
       "        }#T_23dae750_ad3c_11ed_bdbb_96000040dfb6row5_col1{\n",
       "            background-color:  #481668;\n",
       "            color:  #f1f1f1;\n",
       "        }#T_23dae750_ad3c_11ed_bdbb_96000040dfb6row5_col2{\n",
       "            background-color:  #450457;\n",
       "            color:  #f1f1f1;\n",
       "        }#T_23dae750_ad3c_11ed_bdbb_96000040dfb6row6_col1{\n",
       "            background-color:  #404688;\n",
       "            color:  #f1f1f1;\n",
       "        }</style><table id=\"T_23dae750_ad3c_11ed_bdbb_96000040dfb6\" ><caption>User retention</caption><thead>    <tr>        <th class=\"index_name level0\" >days</th>        <th class=\"col_heading level0 col0\" >cohort_size</th>        <th class=\"col_heading level0 col1\" >1</th>        <th class=\"col_heading level0 col2\" >2</th>        <th class=\"col_heading level0 col3\" >3</th>        <th class=\"col_heading level0 col4\" >4</th>        <th class=\"col_heading level0 col5\" >5</th>        <th class=\"col_heading level0 col6\" >6</th>        <th class=\"col_heading level0 col7\" >7</th>    </tr>    <tr>        <th class=\"index_name level0\" >registration</th>        <th class=\"blank\" ></th>        <th class=\"blank\" ></th>        <th class=\"blank\" ></th>        <th class=\"blank\" ></th>        <th class=\"blank\" ></th>        <th class=\"blank\" ></th>        <th class=\"blank\" ></th>        <th class=\"blank\" ></th>    </tr></thead><tbody>\n",
       "                <tr>\n",
       "                        <th id=\"T_23dae750_ad3c_11ed_bdbb_96000040dfb6level0_row0\" class=\"row_heading level0 row0\" >2020-03-01</th>\n",
       "                        <td id=\"T_23dae750_ad3c_11ed_bdbb_96000040dfb6row0_col0\" class=\"data row0 col0\" >61</td>\n",
       "                        <td id=\"T_23dae750_ad3c_11ed_bdbb_96000040dfb6row0_col1\" class=\"data row0 col1\" ></td>\n",
       "                        <td id=\"T_23dae750_ad3c_11ed_bdbb_96000040dfb6row0_col2\" class=\"data row0 col2\" >3.28%</td>\n",
       "                        <td id=\"T_23dae750_ad3c_11ed_bdbb_96000040dfb6row0_col3\" class=\"data row0 col3\" >4.92%</td>\n",
       "                        <td id=\"T_23dae750_ad3c_11ed_bdbb_96000040dfb6row0_col4\" class=\"data row0 col4\" >4.92%</td>\n",
       "                        <td id=\"T_23dae750_ad3c_11ed_bdbb_96000040dfb6row0_col5\" class=\"data row0 col5\" >4.92%</td>\n",
       "                        <td id=\"T_23dae750_ad3c_11ed_bdbb_96000040dfb6row0_col6\" class=\"data row0 col6\" >6.56%</td>\n",
       "                        <td id=\"T_23dae750_ad3c_11ed_bdbb_96000040dfb6row0_col7\" class=\"data row0 col7\" >1.64%</td>\n",
       "            </tr>\n",
       "            <tr>\n",
       "                        <th id=\"T_23dae750_ad3c_11ed_bdbb_96000040dfb6level0_row1\" class=\"row_heading level0 row1\" >2020-03-02</th>\n",
       "                        <td id=\"T_23dae750_ad3c_11ed_bdbb_96000040dfb6row1_col0\" class=\"data row1 col0\" >54</td>\n",
       "                        <td id=\"T_23dae750_ad3c_11ed_bdbb_96000040dfb6row1_col1\" class=\"data row1 col1\" >1.85%</td>\n",
       "                        <td id=\"T_23dae750_ad3c_11ed_bdbb_96000040dfb6row1_col2\" class=\"data row1 col2\" ></td>\n",
       "                        <td id=\"T_23dae750_ad3c_11ed_bdbb_96000040dfb6row1_col3\" class=\"data row1 col3\" >5.56%</td>\n",
       "                        <td id=\"T_23dae750_ad3c_11ed_bdbb_96000040dfb6row1_col4\" class=\"data row1 col4\" >14.81%</td>\n",
       "                        <td id=\"T_23dae750_ad3c_11ed_bdbb_96000040dfb6row1_col5\" class=\"data row1 col5\" >9.26%</td>\n",
       "                        <td id=\"T_23dae750_ad3c_11ed_bdbb_96000040dfb6row1_col6\" class=\"data row1 col6\" ></td>\n",
       "                        <td id=\"T_23dae750_ad3c_11ed_bdbb_96000040dfb6row1_col7\" class=\"data row1 col7\" ></td>\n",
       "            </tr>\n",
       "            <tr>\n",
       "                        <th id=\"T_23dae750_ad3c_11ed_bdbb_96000040dfb6level0_row2\" class=\"row_heading level0 row2\" >2020-03-03</th>\n",
       "                        <td id=\"T_23dae750_ad3c_11ed_bdbb_96000040dfb6row2_col0\" class=\"data row2 col0\" >59</td>\n",
       "                        <td id=\"T_23dae750_ad3c_11ed_bdbb_96000040dfb6row2_col1\" class=\"data row2 col1\" >1.69%</td>\n",
       "                        <td id=\"T_23dae750_ad3c_11ed_bdbb_96000040dfb6row2_col2\" class=\"data row2 col2\" ></td>\n",
       "                        <td id=\"T_23dae750_ad3c_11ed_bdbb_96000040dfb6row2_col3\" class=\"data row2 col3\" >1.69%</td>\n",
       "                        <td id=\"T_23dae750_ad3c_11ed_bdbb_96000040dfb6row2_col4\" class=\"data row2 col4\" >5.08%</td>\n",
       "                        <td id=\"T_23dae750_ad3c_11ed_bdbb_96000040dfb6row2_col5\" class=\"data row2 col5\" >6.78%</td>\n",
       "                        <td id=\"T_23dae750_ad3c_11ed_bdbb_96000040dfb6row2_col6\" class=\"data row2 col6\" ></td>\n",
       "                        <td id=\"T_23dae750_ad3c_11ed_bdbb_96000040dfb6row2_col7\" class=\"data row2 col7\" ></td>\n",
       "            </tr>\n",
       "            <tr>\n",
       "                        <th id=\"T_23dae750_ad3c_11ed_bdbb_96000040dfb6level0_row3\" class=\"row_heading level0 row3\" >2020-03-04</th>\n",
       "                        <td id=\"T_23dae750_ad3c_11ed_bdbb_96000040dfb6row3_col0\" class=\"data row3 col0\" >75</td>\n",
       "                        <td id=\"T_23dae750_ad3c_11ed_bdbb_96000040dfb6row3_col1\" class=\"data row3 col1\" >1.33%</td>\n",
       "                        <td id=\"T_23dae750_ad3c_11ed_bdbb_96000040dfb6row3_col2\" class=\"data row3 col2\" ></td>\n",
       "                        <td id=\"T_23dae750_ad3c_11ed_bdbb_96000040dfb6row3_col3\" class=\"data row3 col3\" >4.00%</td>\n",
       "                        <td id=\"T_23dae750_ad3c_11ed_bdbb_96000040dfb6row3_col4\" class=\"data row3 col4\" >4.00%</td>\n",
       "                        <td id=\"T_23dae750_ad3c_11ed_bdbb_96000040dfb6row3_col5\" class=\"data row3 col5\" ></td>\n",
       "                        <td id=\"T_23dae750_ad3c_11ed_bdbb_96000040dfb6row3_col6\" class=\"data row3 col6\" ></td>\n",
       "                        <td id=\"T_23dae750_ad3c_11ed_bdbb_96000040dfb6row3_col7\" class=\"data row3 col7\" ></td>\n",
       "            </tr>\n",
       "            <tr>\n",
       "                        <th id=\"T_23dae750_ad3c_11ed_bdbb_96000040dfb6level0_row4\" class=\"row_heading level0 row4\" >2020-03-05</th>\n",
       "                        <td id=\"T_23dae750_ad3c_11ed_bdbb_96000040dfb6row4_col0\" class=\"data row4 col0\" >55</td>\n",
       "                        <td id=\"T_23dae750_ad3c_11ed_bdbb_96000040dfb6row4_col1\" class=\"data row4 col1\" >7.27%</td>\n",
       "                        <td id=\"T_23dae750_ad3c_11ed_bdbb_96000040dfb6row4_col2\" class=\"data row4 col2\" >9.09%</td>\n",
       "                        <td id=\"T_23dae750_ad3c_11ed_bdbb_96000040dfb6row4_col3\" class=\"data row4 col3\" >10.91%</td>\n",
       "                        <td id=\"T_23dae750_ad3c_11ed_bdbb_96000040dfb6row4_col4\" class=\"data row4 col4\" ></td>\n",
       "                        <td id=\"T_23dae750_ad3c_11ed_bdbb_96000040dfb6row4_col5\" class=\"data row4 col5\" ></td>\n",
       "                        <td id=\"T_23dae750_ad3c_11ed_bdbb_96000040dfb6row4_col6\" class=\"data row4 col6\" ></td>\n",
       "                        <td id=\"T_23dae750_ad3c_11ed_bdbb_96000040dfb6row4_col7\" class=\"data row4 col7\" ></td>\n",
       "            </tr>\n",
       "            <tr>\n",
       "                        <th id=\"T_23dae750_ad3c_11ed_bdbb_96000040dfb6level0_row5\" class=\"row_heading level0 row5\" >2020-03-06</th>\n",
       "                        <td id=\"T_23dae750_ad3c_11ed_bdbb_96000040dfb6row5_col0\" class=\"data row5 col0\" >60</td>\n",
       "                        <td id=\"T_23dae750_ad3c_11ed_bdbb_96000040dfb6row5_col1\" class=\"data row5 col1\" >1.67%</td>\n",
       "                        <td id=\"T_23dae750_ad3c_11ed_bdbb_96000040dfb6row5_col2\" class=\"data row5 col2\" >3.33%</td>\n",
       "                        <td id=\"T_23dae750_ad3c_11ed_bdbb_96000040dfb6row5_col3\" class=\"data row5 col3\" ></td>\n",
       "                        <td id=\"T_23dae750_ad3c_11ed_bdbb_96000040dfb6row5_col4\" class=\"data row5 col4\" ></td>\n",
       "                        <td id=\"T_23dae750_ad3c_11ed_bdbb_96000040dfb6row5_col5\" class=\"data row5 col5\" ></td>\n",
       "                        <td id=\"T_23dae750_ad3c_11ed_bdbb_96000040dfb6row5_col6\" class=\"data row5 col6\" ></td>\n",
       "                        <td id=\"T_23dae750_ad3c_11ed_bdbb_96000040dfb6row5_col7\" class=\"data row5 col7\" ></td>\n",
       "            </tr>\n",
       "            <tr>\n",
       "                        <th id=\"T_23dae750_ad3c_11ed_bdbb_96000040dfb6level0_row6\" class=\"row_heading level0 row6\" >2020-03-07</th>\n",
       "                        <td id=\"T_23dae750_ad3c_11ed_bdbb_96000040dfb6row6_col0\" class=\"data row6 col0\" >78</td>\n",
       "                        <td id=\"T_23dae750_ad3c_11ed_bdbb_96000040dfb6row6_col1\" class=\"data row6 col1\" >2.56%</td>\n",
       "                        <td id=\"T_23dae750_ad3c_11ed_bdbb_96000040dfb6row6_col2\" class=\"data row6 col2\" ></td>\n",
       "                        <td id=\"T_23dae750_ad3c_11ed_bdbb_96000040dfb6row6_col3\" class=\"data row6 col3\" ></td>\n",
       "                        <td id=\"T_23dae750_ad3c_11ed_bdbb_96000040dfb6row6_col4\" class=\"data row6 col4\" ></td>\n",
       "                        <td id=\"T_23dae750_ad3c_11ed_bdbb_96000040dfb6row6_col5\" class=\"data row6 col5\" ></td>\n",
       "                        <td id=\"T_23dae750_ad3c_11ed_bdbb_96000040dfb6row6_col6\" class=\"data row6 col6\" ></td>\n",
       "                        <td id=\"T_23dae750_ad3c_11ed_bdbb_96000040dfb6row6_col7\" class=\"data row6 col7\" ></td>\n",
       "            </tr>\n",
       "            <tr>\n",
       "                        <th id=\"T_23dae750_ad3c_11ed_bdbb_96000040dfb6level0_row7\" class=\"row_heading level0 row7\" >2020-03-08</th>\n",
       "                        <td id=\"T_23dae750_ad3c_11ed_bdbb_96000040dfb6row7_col0\" class=\"data row7 col0\" >53</td>\n",
       "                        <td id=\"T_23dae750_ad3c_11ed_bdbb_96000040dfb6row7_col1\" class=\"data row7 col1\" ></td>\n",
       "                        <td id=\"T_23dae750_ad3c_11ed_bdbb_96000040dfb6row7_col2\" class=\"data row7 col2\" ></td>\n",
       "                        <td id=\"T_23dae750_ad3c_11ed_bdbb_96000040dfb6row7_col3\" class=\"data row7 col3\" ></td>\n",
       "                        <td id=\"T_23dae750_ad3c_11ed_bdbb_96000040dfb6row7_col4\" class=\"data row7 col4\" ></td>\n",
       "                        <td id=\"T_23dae750_ad3c_11ed_bdbb_96000040dfb6row7_col5\" class=\"data row7 col5\" ></td>\n",
       "                        <td id=\"T_23dae750_ad3c_11ed_bdbb_96000040dfb6row7_col6\" class=\"data row7 col6\" ></td>\n",
       "                        <td id=\"T_23dae750_ad3c_11ed_bdbb_96000040dfb6row7_col7\" class=\"data row7 col7\" ></td>\n",
       "            </tr>\n",
       "    </tbody></table>"
      ],
      "text/plain": [
       "<pandas.io.formats.style.Styler at 0x7fb4e058d240>"
      ]
     },
     "execution_count": 12,
     "metadata": {},
     "output_type": "execute_result"
    }
   ],
   "source": [
    "user_retention = n_days_retention(reg_date, auth_sample, \"2020-03-01\", \"2020-03-08\")\n",
    "user_retention"
   ]
  },
  {
   "cell_type": "markdown",
   "metadata": {},
   "source": [
    "##### Задача: анализ результатов A/B теста <h5>\n",
    "Имеются результаты A/B теста, в котором двум группам пользователей предлагались различные наборы акционных предложений. Известно, что ARPU в тестовой группе выше на 5%, чем в контрольной. При этом в контрольной группе 1928 игроков из 202103 оказались платящими, а в тестовой – 1805 из 202667.\n",
    "\n",
    "Какой набор предложений можно считать лучшим? Какие метрики стоит проанализировать для принятия правильного решения и как?"
   ]
  },
  {
   "cell_type": "markdown",
   "metadata": {},
   "source": [
    "_Загрузим данные с Яндекс диска_"
   ]
  },
  {
   "cell_type": "code",
   "execution_count": 13,
   "metadata": {},
   "outputs": [],
   "source": [
    "# используем api \n",
    "base_url = 'https://cloud-api.yandex.net/v1/disk/public/resources/download?' \n",
    "public_key = 'https://disk.yandex.ru/d/SOkIsD5A8xlI7Q' \n",
    " \n",
    "# получаем url \n",
    "final_url = base_url + urlencode(dict(public_key=public_key)) \n",
    "response = requests.get(final_url) \n",
    "download_url = response.json()['href'] \n",
    " \n",
    "# загружаем файл в датафрейм df_exe_3\n",
    "download_response = requests.get(download_url) \n",
    "df_exe_2 = pd.read_csv(download_url, sep=';')"
   ]
  },
  {
   "cell_type": "code",
   "execution_count": 14,
   "metadata": {},
   "outputs": [
    {
     "data": {
      "text/html": [
       "<div>\n",
       "<style scoped>\n",
       "    .dataframe tbody tr th:only-of-type {\n",
       "        vertical-align: middle;\n",
       "    }\n",
       "\n",
       "    .dataframe tbody tr th {\n",
       "        vertical-align: top;\n",
       "    }\n",
       "\n",
       "    .dataframe thead th {\n",
       "        text-align: right;\n",
       "    }\n",
       "</style>\n",
       "<table border=\"1\" class=\"dataframe\">\n",
       "  <thead>\n",
       "    <tr style=\"text-align: right;\">\n",
       "      <th></th>\n",
       "      <th>user_id</th>\n",
       "      <th>revenue</th>\n",
       "      <th>testgroup</th>\n",
       "    </tr>\n",
       "  </thead>\n",
       "  <tbody>\n",
       "    <tr>\n",
       "      <th>0</th>\n",
       "      <td>1</td>\n",
       "      <td>0</td>\n",
       "      <td>b</td>\n",
       "    </tr>\n",
       "    <tr>\n",
       "      <th>1</th>\n",
       "      <td>2</td>\n",
       "      <td>0</td>\n",
       "      <td>a</td>\n",
       "    </tr>\n",
       "    <tr>\n",
       "      <th>2</th>\n",
       "      <td>3</td>\n",
       "      <td>0</td>\n",
       "      <td>a</td>\n",
       "    </tr>\n",
       "    <tr>\n",
       "      <th>3</th>\n",
       "      <td>4</td>\n",
       "      <td>0</td>\n",
       "      <td>b</td>\n",
       "    </tr>\n",
       "    <tr>\n",
       "      <th>4</th>\n",
       "      <td>5</td>\n",
       "      <td>0</td>\n",
       "      <td>b</td>\n",
       "    </tr>\n",
       "  </tbody>\n",
       "</table>\n",
       "</div>"
      ],
      "text/plain": [
       "   user_id  revenue testgroup\n",
       "0        1        0         b\n",
       "1        2        0         a\n",
       "2        3        0         a\n",
       "3        4        0         b\n",
       "4        5        0         b"
      ]
     },
     "execution_count": 14,
     "metadata": {},
     "output_type": "execute_result"
    }
   ],
   "source": [
    "df_exe_2.head(5)"
   ]
  },
  {
   "cell_type": "code",
   "execution_count": 15,
   "metadata": {},
   "outputs": [
    {
     "data": {
      "text/plain": [
       "(404770, 3)"
      ]
     },
     "execution_count": 15,
     "metadata": {},
     "output_type": "execute_result"
    }
   ],
   "source": [
    "df_exe_2.shape"
   ]
  },
  {
   "cell_type": "code",
   "execution_count": 16,
   "metadata": {},
   "outputs": [
    {
     "data": {
      "text/plain": [
       "user_id      0\n",
       "revenue      0\n",
       "testgroup    0\n",
       "dtype: int64"
      ]
     },
     "execution_count": 16,
     "metadata": {},
     "output_type": "execute_result"
    }
   ],
   "source": [
    "df_exe_2.isna().sum()  # проверим нет ли пропущенных значений"
   ]
  },
  {
   "cell_type": "code",
   "execution_count": 17,
   "metadata": {},
   "outputs": [
    {
     "data": {
      "text/plain": [
       "user_id      404770\n",
       "revenue        1477\n",
       "testgroup         2\n",
       "dtype: int64"
      ]
     },
     "execution_count": 17,
     "metadata": {},
     "output_type": "execute_result"
    }
   ],
   "source": [
    "df_exe_2.nunique()  # узнаем количество уникальных значений"
   ]
  },
  {
   "cell_type": "markdown",
   "metadata": {},
   "source": [
    "Посмотрим на группы в отдельности:"
   ]
  },
  {
   "cell_type": "code",
   "execution_count": 18,
   "metadata": {},
   "outputs": [
    {
     "data": {
      "text/plain": [
       "b    202667\n",
       "a    202103\n",
       "Name: testgroup, dtype: int64"
      ]
     },
     "execution_count": 18,
     "metadata": {},
     "output_type": "execute_result"
    }
   ],
   "source": [
    "df_exe_2.testgroup.value_counts()  # узнаем сколько пользователей в каждой группе"
   ]
  },
  {
   "cell_type": "markdown",
   "metadata": {},
   "source": [
    "В группах примерно одинаковое количество игроков."
   ]
  },
  {
   "cell_type": "markdown",
   "metadata": {},
   "source": [
    "Сделаем график распределения выручки в группе a и b, предварительно убрав нулевые значения выручки:"
   ]
  },
  {
   "cell_type": "code",
   "execution_count": 19,
   "metadata": {},
   "outputs": [
    {
     "data": {
      "text/plain": [
       "[Text(0, 0.5, 'Paying user count'),\n",
       " Text(0.5, 0, 'Revenue'),\n",
       " Text(0.5, 1.0, 'Revenue distribution between AB-test groups')]"
      ]
     },
     "execution_count": 19,
     "metadata": {},
     "output_type": "execute_result"
    },
    {
     "data": {
      "image/png": "[encoded data removed]",
      "text/plain": [
       "<Figure size 864x576 with 1 Axes>"
      ]
     },
     "metadata": {
      "needs_background": "light"
     },
     "output_type": "display_data"
    }
   ],
   "source": [
    "plt.figure(figsize=(12, 8))\n",
    "ax = sns.histplot(data=df_exe_2.query('revenue > 0'), \n",
    "                  x='revenue', \n",
    "                  hue='testgroup', \n",
    "                  kde=True, \n",
    "                  bins=100)\n",
    "ax.set(xlabel='Revenue',\n",
    "       ylabel='Paying user count',\n",
    "       title='Revenue distribution between AB-test groups')"
   ]
  },
  {
   "cell_type": "markdown",
   "metadata": {},
   "source": [
    "Из графика видно, что распределение пользователей в группах значительно отличается. В контрольную группу попали игроки с низким чеком, а также с очень высоким чеком (> 35 000), в то время как в тестовой группе  пользователи не платили больше 5 000. \n",
    "Сплитование осуществлено некорректно. \n",
    "\n",
    "Несмотря на это, посмотрим данные дальше.\n"
   ]
  },
  {
   "cell_type": "markdown",
   "metadata": {},
   "source": [
    "Узнаем общую выручку по группам:"
   ]
  },
  {
   "cell_type": "code",
   "execution_count": 20,
   "metadata": {},
   "outputs": [
    {
     "data": {
      "text/html": [
       "<div>\n",
       "<style scoped>\n",
       "    .dataframe tbody tr th:only-of-type {\n",
       "        vertical-align: middle;\n",
       "    }\n",
       "\n",
       "    .dataframe tbody tr th {\n",
       "        vertical-align: top;\n",
       "    }\n",
       "\n",
       "    .dataframe thead th {\n",
       "        text-align: right;\n",
       "    }\n",
       "</style>\n",
       "<table border=\"1\" class=\"dataframe\">\n",
       "  <thead>\n",
       "    <tr style=\"text-align: right;\">\n",
       "      <th></th>\n",
       "      <th>testgroup</th>\n",
       "      <th>total_revenue</th>\n",
       "    </tr>\n",
       "  </thead>\n",
       "  <tbody>\n",
       "    <tr>\n",
       "      <th>0</th>\n",
       "      <td>a</td>\n",
       "      <td>5136189</td>\n",
       "    </tr>\n",
       "    <tr>\n",
       "      <th>1</th>\n",
       "      <td>b</td>\n",
       "      <td>5421603</td>\n",
       "    </tr>\n",
       "  </tbody>\n",
       "</table>\n",
       "</div>"
      ],
      "text/plain": [
       "  testgroup  total_revenue\n",
       "0         a        5136189\n",
       "1         b        5421603"
      ]
     },
     "execution_count": 20,
     "metadata": {},
     "output_type": "execute_result"
    }
   ],
   "source": [
    "df_exe_2.groupby(['testgroup'], as_index=False) \\\n",
    "        .agg({'revenue': 'sum'}) \\\n",
    "        .rename(columns={\"revenue\": \"total_revenue\"})"
   ]
  },
  {
   "cell_type": "markdown",
   "metadata": {},
   "source": [
    "В тестовой группе общая выручка была выше, но делать вывод о выборе тестового набора акционных предложений пока рано."
   ]
  },
  {
   "cell_type": "markdown",
   "metadata": {},
   "source": [
    "_Посмотрим на общее количество платящих и не платящих пользователей в каждой группе_"
   ]
  },
  {
   "cell_type": "markdown",
   "metadata": {},
   "source": [
    "Добавим в исходный датафрейм столбец cr, со значением 1, если игрок осуществил покупку, и со значением 0, если покупки не было."
   ]
  },
  {
   "cell_type": "code",
   "execution_count": 21,
   "metadata": {},
   "outputs": [
    {
     "data": {
      "text/html": [
       "<div>\n",
       "<style scoped>\n",
       "    .dataframe tbody tr th:only-of-type {\n",
       "        vertical-align: middle;\n",
       "    }\n",
       "\n",
       "    .dataframe tbody tr th {\n",
       "        vertical-align: top;\n",
       "    }\n",
       "\n",
       "    .dataframe thead th {\n",
       "        text-align: right;\n",
       "    }\n",
       "</style>\n",
       "<table border=\"1\" class=\"dataframe\">\n",
       "  <thead>\n",
       "    <tr style=\"text-align: right;\">\n",
       "      <th></th>\n",
       "      <th>user_id</th>\n",
       "      <th>revenue</th>\n",
       "      <th>testgroup</th>\n",
       "      <th>cr</th>\n",
       "    </tr>\n",
       "  </thead>\n",
       "  <tbody>\n",
       "    <tr>\n",
       "      <th>404765</th>\n",
       "      <td>404766</td>\n",
       "      <td>0</td>\n",
       "      <td>a</td>\n",
       "      <td>0</td>\n",
       "    </tr>\n",
       "    <tr>\n",
       "      <th>404766</th>\n",
       "      <td>404767</td>\n",
       "      <td>0</td>\n",
       "      <td>b</td>\n",
       "      <td>0</td>\n",
       "    </tr>\n",
       "    <tr>\n",
       "      <th>404767</th>\n",
       "      <td>404768</td>\n",
       "      <td>231</td>\n",
       "      <td>a</td>\n",
       "      <td>1</td>\n",
       "    </tr>\n",
       "    <tr>\n",
       "      <th>404768</th>\n",
       "      <td>404769</td>\n",
       "      <td>0</td>\n",
       "      <td>a</td>\n",
       "      <td>0</td>\n",
       "    </tr>\n",
       "    <tr>\n",
       "      <th>404769</th>\n",
       "      <td>404770</td>\n",
       "      <td>0</td>\n",
       "      <td>b</td>\n",
       "      <td>0</td>\n",
       "    </tr>\n",
       "  </tbody>\n",
       "</table>\n",
       "</div>"
      ],
      "text/plain": [
       "        user_id  revenue testgroup  cr\n",
       "404765   404766        0         a   0\n",
       "404766   404767        0         b   0\n",
       "404767   404768      231         a   1\n",
       "404768   404769        0         a   0\n",
       "404769   404770        0         b   0"
      ]
     },
     "execution_count": 21,
     "metadata": {},
     "output_type": "execute_result"
    }
   ],
   "source": [
    "df_exe_2['cr'] = df_exe_2.revenue.apply(lambda x: 0 if x == 0 else 1)\n",
    "df_exe_2.tail(5)"
   ]
  },
  {
   "cell_type": "code",
   "execution_count": 22,
   "metadata": {},
   "outputs": [
    {
     "data": {
      "text/html": [
       "<div>\n",
       "<style scoped>\n",
       "    .dataframe tbody tr th:only-of-type {\n",
       "        vertical-align: middle;\n",
       "    }\n",
       "\n",
       "    .dataframe tbody tr th {\n",
       "        vertical-align: top;\n",
       "    }\n",
       "\n",
       "    .dataframe thead th {\n",
       "        text-align: right;\n",
       "    }\n",
       "</style>\n",
       "<table border=\"1\" class=\"dataframe\">\n",
       "  <thead>\n",
       "    <tr style=\"text-align: right;\">\n",
       "      <th>cr</th>\n",
       "      <th>not_paying_users</th>\n",
       "      <th>paying_users</th>\n",
       "    </tr>\n",
       "    <tr>\n",
       "      <th>testgroup</th>\n",
       "      <th></th>\n",
       "      <th></th>\n",
       "    </tr>\n",
       "  </thead>\n",
       "  <tbody>\n",
       "    <tr>\n",
       "      <th>a</th>\n",
       "      <td>200175</td>\n",
       "      <td>1928</td>\n",
       "    </tr>\n",
       "    <tr>\n",
       "      <th>b</th>\n",
       "      <td>200862</td>\n",
       "      <td>1805</td>\n",
       "    </tr>\n",
       "  </tbody>\n",
       "</table>\n",
       "</div>"
      ],
      "text/plain": [
       "cr         not_paying_users  paying_users\n",
       "testgroup                                \n",
       "a                    200175          1928\n",
       "b                    200862          1805"
      ]
     },
     "execution_count": 22,
     "metadata": {},
     "output_type": "execute_result"
    }
   ],
   "source": [
    "df_exe_2.groupby(['cr', 'testgroup'], as_index=False) \\\n",
    "        .agg({'user_id': 'count'}) \\\n",
    "        .rename(columns={\"user_id\": \"user_count\"}) \\\n",
    "        .pivot(index='testgroup', columns='cr', values='user_count') \\\n",
    "        .rename(columns={0: \"not_paying_users\", 1: \"paying_users\"})"
   ]
  },
  {
   "cell_type": "markdown",
   "metadata": {},
   "source": [
    "В контрольной группе платящих пользователей больше."
   ]
  },
  {
   "cell_type": "markdown",
   "metadata": {},
   "source": [
    "Узнаем минимальный и максимальный чек пользователей в каждой группе:"
   ]
  },
  {
   "cell_type": "code",
   "execution_count": 23,
   "metadata": {},
   "outputs": [
    {
     "data": {
      "text/html": [
       "<div>\n",
       "<style scoped>\n",
       "    .dataframe tbody tr th:only-of-type {\n",
       "        vertical-align: middle;\n",
       "    }\n",
       "\n",
       "    .dataframe tbody tr th {\n",
       "        vertical-align: top;\n",
       "    }\n",
       "\n",
       "    .dataframe thead th {\n",
       "        text-align: right;\n",
       "    }\n",
       "</style>\n",
       "<table border=\"1\" class=\"dataframe\">\n",
       "  <thead>\n",
       "    <tr style=\"text-align: right;\">\n",
       "      <th></th>\n",
       "      <th>testgroup</th>\n",
       "      <th>min_revenue_per_paying_user</th>\n",
       "    </tr>\n",
       "  </thead>\n",
       "  <tbody>\n",
       "    <tr>\n",
       "      <th>0</th>\n",
       "      <td>a</td>\n",
       "      <td>200</td>\n",
       "    </tr>\n",
       "    <tr>\n",
       "      <th>1</th>\n",
       "      <td>b</td>\n",
       "      <td>2000</td>\n",
       "    </tr>\n",
       "  </tbody>\n",
       "</table>\n",
       "</div>"
      ],
      "text/plain": [
       "  testgroup  min_revenue_per_paying_user\n",
       "0         a                          200\n",
       "1         b                         2000"
      ]
     },
     "execution_count": 23,
     "metadata": {},
     "output_type": "execute_result"
    }
   ],
   "source": [
    "df_exe_2.query('revenue > 0') \\\n",
    "        .groupby(['testgroup'], as_index=False) \\\n",
    "        .agg({'revenue': 'min'}) \\\n",
    "        .rename(columns={\"revenue\": \"min_revenue_per_paying_user\"})"
   ]
  },
  {
   "cell_type": "code",
   "execution_count": 24,
   "metadata": {},
   "outputs": [
    {
     "data": {
      "text/html": [
       "<div>\n",
       "<style scoped>\n",
       "    .dataframe tbody tr th:only-of-type {\n",
       "        vertical-align: middle;\n",
       "    }\n",
       "\n",
       "    .dataframe tbody tr th {\n",
       "        vertical-align: top;\n",
       "    }\n",
       "\n",
       "    .dataframe thead th {\n",
       "        text-align: right;\n",
       "    }\n",
       "</style>\n",
       "<table border=\"1\" class=\"dataframe\">\n",
       "  <thead>\n",
       "    <tr style=\"text-align: right;\">\n",
       "      <th></th>\n",
       "      <th>testgroup</th>\n",
       "      <th>max_revenue_per_user</th>\n",
       "    </tr>\n",
       "  </thead>\n",
       "  <tbody>\n",
       "    <tr>\n",
       "      <th>0</th>\n",
       "      <td>a</td>\n",
       "      <td>37433</td>\n",
       "    </tr>\n",
       "    <tr>\n",
       "      <th>1</th>\n",
       "      <td>b</td>\n",
       "      <td>4000</td>\n",
       "    </tr>\n",
       "  </tbody>\n",
       "</table>\n",
       "</div>"
      ],
      "text/plain": [
       "  testgroup  max_revenue_per_user\n",
       "0         a                 37433\n",
       "1         b                  4000"
      ]
     },
     "execution_count": 24,
     "metadata": {},
     "output_type": "execute_result"
    }
   ],
   "source": [
    "df_exe_2.query('revenue > 0') \\\n",
    "        .groupby(['testgroup'], as_index=False) \\\n",
    "        .agg({'revenue': 'max'}) \\\n",
    "        .rename(columns={\"revenue\": \"max_revenue_per_user\"})"
   ]
  },
  {
   "cell_type": "markdown",
   "metadata": {},
   "source": [
    "Несмотря на то, что в тестовой группе выручка (5 421 603) была выше, чем в контрольной (5 136 189), мы не можем сделать однозначного вывода о том, что тестовый набор акционных предложений предпочтительнее.\n",
    "\n",
    "Кроме того, в контрольной группе максимальный чек (37 433) больше, чем в 9 раз выше, чем в тестовой (4 000). Еще раз возникает мысль о некорректном сплитовании.\n",
    "\n",
    "Исследуем данные дальше."
   ]
  },
  {
   "cell_type": "markdown",
   "metadata": {},
   "source": [
    "__Исходя из имеющихся у нас данных посмотрим следующие метрики:__\n",
    "- ARPU - средняя выручка на одного пользователя\n",
    "- ARPPU - средняя выручка на одного платящего пользователя\n",
    "- CR - конверсию в покупку"
   ]
  },
  {
   "cell_type": "code",
   "execution_count": 25,
   "metadata": {},
   "outputs": [],
   "source": [
    "def metrics(a, b):\n",
    "    '''\n",
    "    функция metrics на вход принимает два датафрейма с данными о том какую выручку принес каждый из игроков\n",
    "    в каждой группе, и выводит значения метрик ARPU, ARPPU и CR\n",
    "    '''\n",
    "    \n",
    "#   ARPU\n",
    "    arpu_a = (a.revenue.sum() / a.user_id.nunique())\n",
    "    arpu_b = (b.revenue.sum() / b.user_id.nunique())\n",
    "\n",
    "#   ARPPU\n",
    "    arppu_a = (a.revenue.sum() / a.query('revenue > 0').user_id.nunique())\n",
    "    arppu_b = (b.revenue.sum() / b.query('revenue > 0').user_id.nunique())\n",
    "    \n",
    "#   CR\n",
    "    cr_a = a.query('revenue > 0').user_id.nunique() / a.user_id.nunique()\n",
    "    cr_b = b.query('revenue > 0').user_id.nunique() / b.user_id.nunique()\n",
    "    \n",
    "#   Создадим словарь, из которого получится датафрейм с искомыми метриками\n",
    "    total = {'arpu': [arpu_a, arpu_b],\n",
    "             'arppu': [arppu_a, arppu_b],\n",
    "             'cr': [cr_a, cr_b]}  \n",
    "    \n",
    "#   Присвоим значения a и b индексам датафрейма            \n",
    "    total = pd.DataFrame(total, index=['a', 'b'])\n",
    "    \n",
    "    return total"
   ]
  },
  {
   "cell_type": "code",
   "execution_count": 26,
   "metadata": {},
   "outputs": [],
   "source": [
    "group_a = df_exe_2.query('testgroup == \"a\"')  # данные контрольной группы\n",
    "\n",
    "group_b = df_exe_2.query('testgroup == \"b\"')  # данные тестовой группы"
   ]
  },
  {
   "cell_type": "code",
   "execution_count": 27,
   "metadata": {},
   "outputs": [
    {
     "data": {
      "text/html": [
       "<style  type=\"text/css\" >\n",
       "#T_6e94bcc6_ad3c_11ed_bdbb_96000040dfb6row0_col0,#T_6e94bcc6_ad3c_11ed_bdbb_96000040dfb6row0_col1,#T_6e94bcc6_ad3c_11ed_bdbb_96000040dfb6row1_col2{\n",
       "            background-color:  #440154;\n",
       "            color:  #f1f1f1;\n",
       "        }#T_6e94bcc6_ad3c_11ed_bdbb_96000040dfb6row0_col2,#T_6e94bcc6_ad3c_11ed_bdbb_96000040dfb6row1_col0,#T_6e94bcc6_ad3c_11ed_bdbb_96000040dfb6row1_col1{\n",
       "            background-color:  #fde725;\n",
       "            color:  #000000;\n",
       "        }</style><table id=\"T_6e94bcc6_ad3c_11ed_bdbb_96000040dfb6\" ><caption>Key metrics of AB-test</caption><thead>    <tr>        <th class=\"blank level0\" ></th>        <th class=\"col_heading level0 col0\" >arpu</th>        <th class=\"col_heading level0 col1\" >arppu</th>        <th class=\"col_heading level0 col2\" >cr</th>    </tr></thead><tbody>\n",
       "                <tr>\n",
       "                        <th id=\"T_6e94bcc6_ad3c_11ed_bdbb_96000040dfb6level0_row0\" class=\"row_heading level0 row0\" >a</th>\n",
       "                        <td id=\"T_6e94bcc6_ad3c_11ed_bdbb_96000040dfb6row0_col0\" class=\"data row0 col0\" >25.413720</td>\n",
       "                        <td id=\"T_6e94bcc6_ad3c_11ed_bdbb_96000040dfb6row0_col1\" class=\"data row0 col1\" >2663.998444</td>\n",
       "                        <td id=\"T_6e94bcc6_ad3c_11ed_bdbb_96000040dfb6row0_col2\" class=\"data row0 col2\" >0.95%</td>\n",
       "            </tr>\n",
       "            <tr>\n",
       "                        <th id=\"T_6e94bcc6_ad3c_11ed_bdbb_96000040dfb6level0_row1\" class=\"row_heading level0 row1\" >b</th>\n",
       "                        <td id=\"T_6e94bcc6_ad3c_11ed_bdbb_96000040dfb6row1_col0\" class=\"data row1 col0\" >26.751287</td>\n",
       "                        <td id=\"T_6e94bcc6_ad3c_11ed_bdbb_96000040dfb6row1_col1\" class=\"data row1 col1\" >3003.658172</td>\n",
       "                        <td id=\"T_6e94bcc6_ad3c_11ed_bdbb_96000040dfb6row1_col2\" class=\"data row1 col2\" >0.89%</td>\n",
       "            </tr>\n",
       "    </tbody></table>"
      ],
      "text/plain": [
       "<pandas.io.formats.style.Styler at 0x7fb5138eee48>"
      ]
     },
     "execution_count": 27,
     "metadata": {},
     "output_type": "execute_result"
    }
   ],
   "source": [
    "metrics_ab = metrics(group_a, group_b)\n",
    "metrics_in_style = (metrics_ab\n",
    "                    .style\n",
    "                    .set_caption('Key metrics of AB-test')  # добавляем подпись\n",
    "                    .background_gradient(cmap='viridis')  # раскрашиваем ячейки по столбцам (желтый - больше)\n",
    "                    .format(formatter={('arpu', 'arppu'): \"{:.2f}\",\n",
    "                                       ('cr'): \"{:.2%}\"}))  # числа в столбце cr форматируем как проценты\n",
    "metrics_in_style"
   ]
  },
  {
   "cell_type": "markdown",
   "metadata": {},
   "source": [
    "Мы видим, что ARPU и ARPPU в тестовой группе выше, в то время как конверсия в покупку выше в контрольной группе."
   ]
  },
  {
   "cell_type": "markdown",
   "metadata": {},
   "source": [
    "__Итак, какой все же набор предложений можно считать лучшим?__"
   ]
  },
  {
   "cell_type": "markdown",
   "metadata": {},
   "source": [
    "__ARPU__"
   ]
  },
  {
   "cell_type": "markdown",
   "metadata": {},
   "source": [
    "Из графика распределения выручки в группе a и b было видно, что распределения не являются нормальными.\n",
    "\n",
    "На практике t-тест может быть использован для сравнения средних и при ненормальном распределении, особенно на больших выборках и если в данных нет заметных выбросов.\n",
    "Дисперсии внутри наших групп должны быть примерно одинаковы (требование гомогенности дисперсий). Проверить можно с помощью критерия Левена.\n",
    "\n",
    "Что касается выбросов - проведем тест дважды: на полных данных и на данных контрольной группы без выбросов (самых высоких чеков)."
   ]
  },
  {
   "cell_type": "markdown",
   "metadata": {},
   "source": [
    "Гипотезы:\n",
    "\n",
    "- H0 – в генеральной совокупности никакого различия между средними значениями нет\n",
    "\n",
    "- H1 – средние в генеральной совокупности не равны (альтернативная гипотеза)"
   ]
  },
  {
   "cell_type": "code",
   "execution_count": 28,
   "metadata": {},
   "outputs": [
    {
     "data": {
      "text/html": [
       "<div>\n",
       "<style scoped>\n",
       "    .dataframe tbody tr th:only-of-type {\n",
       "        vertical-align: middle;\n",
       "    }\n",
       "\n",
       "    .dataframe tbody tr th {\n",
       "        vertical-align: top;\n",
       "    }\n",
       "\n",
       "    .dataframe thead th {\n",
       "        text-align: right;\n",
       "    }\n",
       "</style>\n",
       "<table border=\"1\" class=\"dataframe\">\n",
       "  <thead>\n",
       "    <tr style=\"text-align: right;\">\n",
       "      <th></th>\n",
       "      <th>W</th>\n",
       "      <th>pval</th>\n",
       "      <th>equal_var</th>\n",
       "    </tr>\n",
       "  </thead>\n",
       "  <tbody>\n",
       "    <tr>\n",
       "      <th>levene</th>\n",
       "      <td>0.389629</td>\n",
       "      <td>0.532495</td>\n",
       "      <td>True</td>\n",
       "    </tr>\n",
       "  </tbody>\n",
       "</table>\n",
       "</div>"
      ],
      "text/plain": [
       "               W      pval  equal_var\n",
       "levene  0.389629  0.532495       True"
      ]
     },
     "execution_count": 28,
     "metadata": {},
     "output_type": "execute_result"
    }
   ],
   "source": [
    "pg.homoscedasticity(data=df_exe_2, dv=\"revenue\", group=\"testgroup\")"
   ]
  },
  {
   "cell_type": "markdown",
   "metadata": {},
   "source": [
    "Дисперсии гомогенны, значит можем применить t-test"
   ]
  },
  {
   "cell_type": "code",
   "execution_count": 29,
   "metadata": {},
   "outputs": [
    {
     "data": {
      "text/plain": [
       "Ttest_indResult(statistic=-0.6242026493616787, pvalue=0.532494858971837)"
      ]
     },
     "execution_count": 29,
     "metadata": {},
     "output_type": "execute_result"
    }
   ],
   "source": [
    "stats.ttest_ind(group_a.revenue, group_b.revenue)"
   ]
  },
  {
   "cell_type": "markdown",
   "metadata": {},
   "source": [
    "p-value > 0.05, значит отклонить H0 мы не можем, то есть по результатам этого теста статистически значимых различий ARPU контрольной и тестовой групп нет."
   ]
  },
  {
   "cell_type": "markdown",
   "metadata": {},
   "source": [
    "Сделаем еще одну проверку на данных без выбросов (хоть я и считаю неправильным игнорировать в исследовании игроков, приносящих максимальную выручку, но все равно решила посмотреть на результат, узнать будут ли отличия)"
   ]
  },
  {
   "cell_type": "code",
   "execution_count": 30,
   "metadata": {},
   "outputs": [],
   "source": [
    "df_exe_2_clean = df_exe_2.query(\"revenue < 35000\")\n",
    "group_a_clean = group_a.query(\"revenue < 35000\")"
   ]
  },
  {
   "cell_type": "code",
   "execution_count": 31,
   "metadata": {},
   "outputs": [
    {
     "data": {
      "text/html": [
       "<div>\n",
       "<style scoped>\n",
       "    .dataframe tbody tr th:only-of-type {\n",
       "        vertical-align: middle;\n",
       "    }\n",
       "\n",
       "    .dataframe tbody tr th {\n",
       "        vertical-align: top;\n",
       "    }\n",
       "\n",
       "    .dataframe thead th {\n",
       "        text-align: right;\n",
       "    }\n",
       "</style>\n",
       "<table border=\"1\" class=\"dataframe\">\n",
       "  <thead>\n",
       "    <tr style=\"text-align: right;\">\n",
       "      <th></th>\n",
       "      <th>W</th>\n",
       "      <th>pval</th>\n",
       "      <th>equal_var</th>\n",
       "    </tr>\n",
       "  </thead>\n",
       "  <tbody>\n",
       "    <tr>\n",
       "      <th>levene</th>\n",
       "      <td>1400.723139</td>\n",
       "      <td>4.912188e-306</td>\n",
       "      <td>False</td>\n",
       "    </tr>\n",
       "  </tbody>\n",
       "</table>\n",
       "</div>"
      ],
      "text/plain": [
       "                  W           pval  equal_var\n",
       "levene  1400.723139  4.912188e-306      False"
      ]
     },
     "execution_count": 31,
     "metadata": {},
     "output_type": "execute_result"
    }
   ],
   "source": [
    "pg.homoscedasticity(data=df_exe_2_clean, dv=\"revenue\", group=\"testgroup\")"
   ]
  },
  {
   "cell_type": "markdown",
   "metadata": {},
   "source": [
    "Дисперсии не гомогенны, поэтому используем t-критерий Уэлча"
   ]
  },
  {
   "cell_type": "code",
   "execution_count": 32,
   "metadata": {},
   "outputs": [
    {
     "data": {
      "text/plain": [
       "Ttest_indResult(statistic=-37.48854905417036, pvalue=1.529802212310516e-306)"
      ]
     },
     "execution_count": 32,
     "metadata": {},
     "output_type": "execute_result"
    }
   ],
   "source": [
    "stats.ttest_ind(group_a_clean.revenue, group_b.revenue, equal_var=False)"
   ]
  },
  {
   "cell_type": "markdown",
   "metadata": {},
   "source": [
    "В этом случае также p-value > 0.05, значит отклонить H0 мы не можем, то есть по результатам этого теста статистически значимых различий ARPU контрольной и тестовой групп нет."
   ]
  },
  {
   "cell_type": "markdown",
   "metadata": {},
   "source": [
    "__ARPPU__"
   ]
  },
  {
   "cell_type": "markdown",
   "metadata": {},
   "source": [
    "Из графика распределения выручки в группе a и b было видно, что распределения не являются нормальными. Проверим гомогенность дисперсий с помощью критерия Левена"
   ]
  },
  {
   "cell_type": "markdown",
   "metadata": {},
   "source": [
    "Гипотезы:\n",
    "\n",
    "- H0 – в генеральной совокупности никакого различия между средними значениями нет\n",
    "\n",
    "- H1 – средние в генеральной совокупности не равны (альтернативная гипотеза)"
   ]
  },
  {
   "cell_type": "code",
   "execution_count": 33,
   "metadata": {},
   "outputs": [
    {
     "data": {
      "text/html": [
       "<div>\n",
       "<style scoped>\n",
       "    .dataframe tbody tr th:only-of-type {\n",
       "        vertical-align: middle;\n",
       "    }\n",
       "\n",
       "    .dataframe tbody tr th {\n",
       "        vertical-align: top;\n",
       "    }\n",
       "\n",
       "    .dataframe thead th {\n",
       "        text-align: right;\n",
       "    }\n",
       "</style>\n",
       "<table border=\"1\" class=\"dataframe\">\n",
       "  <thead>\n",
       "    <tr style=\"text-align: right;\">\n",
       "      <th></th>\n",
       "      <th>W</th>\n",
       "      <th>pval</th>\n",
       "      <th>equal_var</th>\n",
       "    </tr>\n",
       "  </thead>\n",
       "  <tbody>\n",
       "    <tr>\n",
       "      <th>levene</th>\n",
       "      <td>80.855674</td>\n",
       "      <td>3.779690e-19</td>\n",
       "      <td>False</td>\n",
       "    </tr>\n",
       "  </tbody>\n",
       "</table>\n",
       "</div>"
      ],
      "text/plain": [
       "                W          pval  equal_var\n",
       "levene  80.855674  3.779690e-19      False"
      ]
     },
     "execution_count": 33,
     "metadata": {},
     "output_type": "execute_result"
    }
   ],
   "source": [
    "pg.homoscedasticity(data=df_exe_2.query(\"revenue > 0\"), dv=\"revenue\", group=\"testgroup\")"
   ]
  },
  {
   "cell_type": "markdown",
   "metadata": {},
   "source": [
    "Дисперсии не гомогенны, поэтому используем t-критерий Уэлча"
   ]
  },
  {
   "cell_type": "code",
   "execution_count": 34,
   "metadata": {},
   "outputs": [
    {
     "data": {
      "text/plain": [
       "Ttest_indResult(statistic=-1.6446302664300838, pvalue=0.10020780398916015)"
      ]
     },
     "execution_count": 34,
     "metadata": {},
     "output_type": "execute_result"
    }
   ],
   "source": [
    "stats.ttest_ind(group_a.query(\"revenue > 0\").revenue, group_b.query(\"revenue > 0\").revenue, \n",
    "                equal_var=False)"
   ]
  },
  {
   "cell_type": "markdown",
   "metadata": {},
   "source": [
    "p-value > 0.05, значит отклонить H0 мы не можем, то есть по результатам этого теста статистически значимых различий ARPPU контрольной и тестовой групп нет."
   ]
  },
  {
   "cell_type": "markdown",
   "metadata": {},
   "source": [
    "__CR__"
   ]
  },
  {
   "cell_type": "markdown",
   "metadata": {},
   "source": [
    "Теперь прверим различия CR при помощи Хи-квадрат."
   ]
  },
  {
   "cell_type": "markdown",
   "metadata": {},
   "source": [
    "Гипотезы:\n",
    "\n",
    "- H0 – различий между тестовой и контрольной группами нет\n",
    "\n",
    "- H1 – различия между контрольной и тестовой группами есть"
   ]
  },
  {
   "cell_type": "code",
   "execution_count": 35,
   "metadata": {},
   "outputs": [
    {
     "data": {
      "text/plain": [
       "(4.374729521260405,\n",
       " 0.03647561892312613,\n",
       " 1,\n",
       " array([[200239.10075104,   1863.89924896],\n",
       "        [200797.89924896,   1869.10075104]]))"
      ]
     },
     "execution_count": 35,
     "metadata": {},
     "output_type": "execute_result"
    }
   ],
   "source": [
    "stats.chi2_contingency(pd.crosstab(df_exe_2.testgroup, df_exe_2.cr))"
   ]
  },
  {
   "cell_type": "markdown",
   "metadata": {},
   "source": [
    "Так как p-value < 0.05, отклоняем H0. Различия между группами статистически значимы"
   ]
  },
  {
   "cell_type": "markdown",
   "metadata": {},
   "source": [
    "__Вывод:__ \n",
    "\n",
    "Тестовый набор предложений внедрять, на мой взгляд, не стоит. Нет достоверных данных о том, что он увеличивает целевые метрики.\n",
    "Хотя тестовая группа показала большую общую выручку, чем контрольная (5 421 603 vs 5 136 189). По проведенным статистическим тестам, мы видим, что ARPU и ARPPU статистически не различаются в контрольной и тестовой группах, в то время как различия в CR статистически значимы (а конверсия была выше в контрольной группе - 0.95% vs 0.89% в тестовой группе).\n",
    "\n",
    "Таким образом, я бы рекомендовала оставить акционный набор предложений, который применяли в контрольной группе, скорректировать сплитование и провести новый эксперимент. \n",
    "\n",
    "Кроме того, вероятно, есть смысл в том, чтобы выделить различные группы пользователей по объему выручки (0, низкий чек, средний чек, высокий чек), и экспериментировать с тем, что будет наиболее действенным для каждой из этих групп. "
   ]
  },
  {
   "cell_type": "markdown",
   "metadata": {},
   "source": [
    "##### Задача: подбор метрик для оценки результатов тематического события в игре <h5>\n",
    "_В игре Plants & Gardens каждый месяц проводятся тематические события, ограниченные по времени. В них игроки могут получить уникальные предметы для сада и персонажей, дополнительные монеты или бонусы. Для получения награды требуется пройти ряд уровней за определенное время. С помощью каких метрик можно оценить результаты последнего прошедшего события?_"
   ]
  },
  {
   "cell_type": "markdown",
   "metadata": {},
   "source": [
    "Мобильная игра, тест последнего тематического события.\n",
    "- __Целевые__: \n",
    " - daily active users (DAU), чтобы отслеживать как меняется количество пользователей в день в зависимости от события\n",
    " - monthly active users (MAU), чтобы сравнить событие этого месяца с предыдущими (возможно оно привлекло новых пользователей, или кто-то из давно не заходивших вернулся)\n",
    " - липкость (Stickiness = DAU / MAU) — насколько часто пользователи заходят в игру (когда событие есть/когда его нет/по сравнению с прошедшими событиями)\n",
    " - Average revenue per daily active user (ARPDAU) = Daily revenue/DAU. Средняя выручка на активного пользователя.\n",
    " - ARPPU - средний доход на платящего пользователя\n",
    " - Если в игре есть разные пути монетизации, например - платная подписка, внутриигровые покупки, то их отслеживать дополнительно.\n",
    " - Установки приложения.\n",
    " - LTV\n",
    " \n",
    "- __Опережающие__: \n",
    " - retention rate - отношение игроков, которые вернулись в игру повторно, к числу пользователей на начало расчетного периода. Насколько хорошо получается удерживать игроков.\n",
    " - churn rate - насколько пользователи отваливаются (из-за багов, ошибок, кривых механик и т.д.)\n",
    " - частота обращений в службу поддержки\n",
    " - внутриигровые покупки за монеты и бонусы\n",
    "- __Guardrail__: \n",
    " - продолжительность игровой сессии\n",
    " - количество игровых сессий в день/за период тематического события\n",
    " - количество уровней, успешно пройденных игроком за заданное время\n"
   ]
  },
  {
   "cell_type": "markdown",
   "metadata": {},
   "source": [
    "_Предположим, в другом событии мы усложнили механику событий так, что при каждой неудачной попытке выполнения уровня игрок будет откатываться на несколько уровней назад. Изменится ли набор метрик оценки результата? Если да, то как?_"
   ]
  },
  {
   "cell_type": "markdown",
   "metadata": {},
   "source": [
    "Да, я бы добавила еще guardrail метрики:\n",
    "- количество неудачных попыток выполнения уровня на каждого игрока\n",
    "- на сколько уровней откатывались игроки\n",
    "- после откатов как часто бросали проходить тематическое событие\n"
   ]
  }
 ],
 "metadata": {
  "kernelspec": {
   "display_name": "Python 3",
   "language": "python",
   "name": "python3"
  },
  "language_info": {
   "codemirror_mode": {
    "name": "ipython",
    "version": 3
   },
   "file_extension": ".py",
   "mimetype": "text/x-python",
   "name": "python",
   "nbconvert_exporter": "python",
   "pygments_lexer": "ipython3",
   "version": "3.7.3"
  }
 },
 "nbformat": 4,
 "nbformat_minor": 4
}
